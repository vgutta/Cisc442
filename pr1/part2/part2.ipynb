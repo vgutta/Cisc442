{
 "cells": [
  {
   "cell_type": "code",
   "execution_count": 17,
   "metadata": {
    "collapsed": true
   },
   "outputs": [],
   "source": [
    "import cv2\n",
    "from skimage import io, color, data\n",
    "import numpy as np,sys\n",
    "import matplotlib.pyplot as plt\n",
    "#%matplotlib inline\n",
    "%matplotlib notebook"
   ]
  },
  {
   "cell_type": "code",
   "execution_count": 3,
   "metadata": {
    "collapsed": true
   },
   "outputs": [],
   "source": [
    "img12 = cv2.imread(\"im12.png\", 0)\n",
    "img11 = cv2.imread(\"im11.png\", 0)"
   ]
  },
  {
   "cell_type": "code",
   "execution_count": 23,
   "metadata": {},
   "outputs": [
    {
     "name": "stdout",
     "output_type": "stream",
     "text": [
      "[[ 0.08289801  0.14468904  0.15656093 ..., -0.85060716 -0.71458433\n",
      "  -0.70595807]\n",
      " [-0.18357767 -0.3193184  -0.27961961 ...,  1.34522773  1.18950009\n",
      "   1.25500864]\n",
      " [ 0.06461078  0.10360551  0.06861598 ..., -0.64707109 -0.43885004\n",
      "  -0.69950059]\n",
      " ..., \n",
      " [-0.14752492 -0.05805239 -0.18513188 ..., -0.05486602  0.28209397\n",
      "   0.31571955]\n",
      " [ 0.03156386 -0.07478782  0.0606586  ..., -0.45362692 -0.61764944\n",
      "  -0.28062479]\n",
      " [-0.02590829  0.0504471  -0.01086606 ...,  0.49323846  0.51505782\n",
      "   0.2429435 ]]\n"
     ]
    }
   ],
   "source": [
    "### Affine transformation parameters\n",
    "#convert images to np arrays as img1 and img2\n",
    "x, residuals, rank, s = np.linalg.lstsq(img11, img12)\n",
    "print(x)"
   ]
  },
  {
   "cell_type": "code",
   "execution_count": null,
   "metadata": {
    "collapsed": true
   },
   "outputs": [],
   "source": []
  },
  {
   "cell_type": "code",
   "execution_count": null,
   "metadata": {
    "collapsed": true
   },
   "outputs": [],
   "source": []
  }
 ],
 "metadata": {
  "kernelspec": {
   "display_name": "Python 3",
   "language": "python",
   "name": "python3"
  },
  "language_info": {
   "codemirror_mode": {
    "name": "ipython",
    "version": 3
   },
   "file_extension": ".py",
   "mimetype": "text/x-python",
   "name": "python",
   "nbconvert_exporter": "python",
   "pygments_lexer": "ipython3",
   "version": "3.6.3"
  }
 },
 "nbformat": 4,
 "nbformat_minor": 2
}
